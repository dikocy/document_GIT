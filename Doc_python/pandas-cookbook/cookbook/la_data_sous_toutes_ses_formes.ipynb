{
 "cells": [
  {
   "cell_type": "markdown",
   "metadata": {},
   "source": [
    "Créer un dictionnaire contenant les informations d'un utilisateur : firstname, lastname, age, adresse. L'adresse contiendra les champs : ville, zipcode, rue"
   ]
  },
  {
   "cell_type": "code",
   "execution_count": 1,
   "metadata": {},
   "outputs": [
    {
     "data": {
      "text/plain": [
       "{'firstname': 'Dibi',\n",
       " 'last_name': 'cyrille',\n",
       " 'age': 29,\n",
       " 'adresse': {'Ville': 'paris', 'zipcode': 92130, 'rue': 'avenue de verdun'}}"
      ]
     },
     "execution_count": 1,
     "metadata": {},
     "output_type": "execute_result"
    }
   ],
   "source": [
    "mon_dict = {\"firstname\":\"Dibi\", \"last_name\":\"cyrille\", \"age\":29, \"adresse\":{\"Ville\":'paris',\"zipcode\":92130, \"rue\":\"avenue de verdun\"}}\n",
    "mon_dict"
   ]
  },
  {
   "cell_type": "markdown",
   "metadata": {},
   "source": [
    "à l'aide la librairie json, convertir le dictionnaire en json et l'afficher"
   ]
  },
  {
   "cell_type": "code",
   "execution_count": 2,
   "metadata": {},
   "outputs": [
    {
     "data": {
      "text/plain": [
       "'{\"firstname\": \"Dibi\", \"last_name\": \"cyrille\", \"age\": 29, \"adresse\": {\"Ville\": \"paris\", \"zipcode\": 92130, \"rue\": \"avenue de verdun\"}}'"
      ]
     },
     "execution_count": 2,
     "metadata": {},
     "output_type": "execute_result"
    }
   ],
   "source": [
    "import json\n",
    "json.dumps(mon_dict)"
   ]
  },
  {
   "cell_type": "code",
   "execution_count": 5,
   "metadata": {},
   "outputs": [
    {
     "data": {
      "text/plain": [
       "{'lastname': 'doe',\n",
       " 'address': {'zipcode': '13100',\n",
       "  'street': 'rue de la caille de la muerte',\n",
       "  'city': 'Aix-En-Provence'},\n",
       " 'age': 22,\n",
       " 'firstname': 'john'}"
      ]
     },
     "execution_count": 5,
     "metadata": {},
     "output_type": "execute_result"
    }
   ],
   "source": [
    "a = '{\"lastname\": \"doe\", \"address\": {\"zipcode\": \"13100\", \"street\": \"rue de la caille de la muerte\", \"city\": \"Aix-En-Provence\"}, \"age\": 22, \"firstname\": \"john\"}'\n",
    "b = json.loads(a)\n",
    "b\n"
   ]
  },
  {
   "cell_type": "markdown",
   "metadata": {},
   "source": [
    "à l'aide de la librairie json convertir la variable **a** en dictionnaire"
   ]
  },
  {
   "cell_type": "code",
   "execution_count": 2,
   "metadata": {},
   "outputs": [
    {
     "data": {
      "text/plain": [
       "'{\"lastname\": \"doe\", \"address\": {\"zipcode\": \"13100\", \"street\": \"rue de la caille de la muerte\", \"city\": \"Aix-En-Provence\"}, \"age\": 22, \"firstname\": \"john\"}'"
      ]
     },
     "execution_count": 2,
     "metadata": {},
     "output_type": "execute_result"
    }
   ],
   "source": [
    "a = '{\"lastname\": \"doe\", \"address\": {\"zipcode\": \"13100\", \"street\": \"rue de la caille de la muerte\", \"city\": \"Aix-En-Provence\"}, \"age\": 22, \"firstname\": \"john\"}'\n",
    "a"
   ]
  },
  {
   "cell_type": "markdown",
   "metadata": {},
   "source": [
    "Chercher sur internet une librairie permetter de convertir un fichier xml en objet python. L'utiliser sur le fichier fourni"
   ]
  },
  {
   "cell_type": "code",
   "execution_count": 3,
   "metadata": {},
   "outputs": [
    {
     "ename": "FileNotFoundError",
     "evalue": "[Errno 2] No such file or directory: 'test.xml'",
     "output_type": "error",
     "traceback": [
      "\u001b[1;31m---------------------------------------------------------------------------\u001b[0m",
      "\u001b[1;31mFileNotFoundError\u001b[0m                         Traceback (most recent call last)",
      "\u001b[1;32m<ipython-input-3-42341d1b798c>\u001b[0m in \u001b[0;36m<module>\u001b[1;34m()\u001b[0m\n\u001b[0;32m      1\u001b[0m \u001b[1;32mimport\u001b[0m \u001b[0mxmltodict\u001b[0m \u001b[1;32mas\u001b[0m \u001b[0mxmld\u001b[0m\u001b[1;33m\u001b[0m\u001b[0m\n\u001b[1;32m----> 2\u001b[1;33m \u001b[0mm_dict\u001b[0m \u001b[1;33m=\u001b[0m \u001b[0mopen\u001b[0m\u001b[1;33m(\u001b[0m\u001b[1;34m\"test.xml\"\u001b[0m\u001b[1;33m)\u001b[0m\u001b[1;33m.\u001b[0m\u001b[0mread\u001b[0m\u001b[1;33m(\u001b[0m\u001b[1;33m)\u001b[0m\u001b[1;33m\u001b[0m\u001b[0m\n\u001b[0m\u001b[0;32m      3\u001b[0m \u001b[0mm_dict\u001b[0m \u001b[1;33m=\u001b[0m \u001b[0mxmld\u001b[0m\u001b[1;33m.\u001b[0m\u001b[0mparse\u001b[0m\u001b[1;33m(\u001b[0m\u001b[0mm_dict\u001b[0m\u001b[1;33m)\u001b[0m\u001b[1;33m\u001b[0m\u001b[0m\n\u001b[0;32m      4\u001b[0m \u001b[0mm_dict\u001b[0m\u001b[1;33m\u001b[0m\u001b[0m\n",
      "\u001b[1;31mFileNotFoundError\u001b[0m: [Errno 2] No such file or directory: 'test.xml'"
     ]
    }
   ],
   "source": [
    "import xmltodict as xmld\n",
    "m_dict = open(\"test.xml\").read()\n",
    "m_dict = xmld.parse(m_dict)\n",
    "m_dict"
   ]
  },
  {
   "cell_type": "markdown",
   "metadata": {},
   "source": [
    "Faire l'opération inverse"
   ]
  },
  {
   "cell_type": "code",
   "execution_count": null,
   "metadata": {},
   "outputs": [],
   "source": []
  },
  {
   "cell_type": "markdown",
   "metadata": {},
   "source": [
    "Créer un fichier au format yaml contenant les information identiques au dictionnaire créé tout en haut"
   ]
  },
  {
   "cell_type": "code",
   "execution_count": null,
   "metadata": {},
   "outputs": [],
   "source": []
  },
  {
   "cell_type": "markdown",
   "metadata": {},
   "source": [
    "A l'aide de la librairie que vous aurez trouvé, convertir le fichier yaml en dictionnaire et faire l'opération inverse"
   ]
  },
  {
   "cell_type": "code",
   "execution_count": null,
   "metadata": {},
   "outputs": [],
   "source": []
  },
  {
   "cell_type": "code",
   "execution_count": null,
   "metadata": {},
   "outputs": [],
   "source": []
  },
  {
   "cell_type": "markdown",
   "metadata": {},
   "source": [
    "# Introduction au scrapping \n",
    "\n",
    "A l'aide de la librairie request et de la méthode \"get\" récupérer le contenu d'une page web et l'afficher"
   ]
  },
  {
   "cell_type": "code",
   "execution_count": null,
   "metadata": {},
   "outputs": [],
   "source": []
  },
  {
   "cell_type": "markdown",
   "metadata": {},
   "source": [
    "Installer beautifulsoup et regarder la doc. A quoi cela sert ? Comment cela marche ? "
   ]
  },
  {
   "cell_type": "code",
   "execution_count": null,
   "metadata": {},
   "outputs": [],
   "source": []
  },
  {
   "cell_type": "markdown",
   "metadata": {},
   "source": [
    "Récupérer tous les titres d'article de votre site de news préféré"
   ]
  },
  {
   "cell_type": "code",
   "execution_count": null,
   "metadata": {},
   "outputs": [],
   "source": []
  }
 ],
 "metadata": {
  "kernelspec": {
   "display_name": "Python 3",
   "language": "python",
   "name": "python3"
  },
  "language_info": {
   "codemirror_mode": {
    "name": "ipython",
    "version": 3
   },
   "file_extension": ".py",
   "mimetype": "text/x-python",
   "name": "python",
   "nbconvert_exporter": "python",
   "pygments_lexer": "ipython3",
   "version": "3.7.0"
  }
 },
 "nbformat": 4,
 "nbformat_minor": 2
}
