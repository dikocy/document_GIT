{
 "cells": [
  {
   "cell_type": "code",
   "execution_count": 50,
   "metadata": {},
   "outputs": [],
   "source": [
    "%matplotlib inline\n",
    "\n",
    "import pandas as pd\n",
    "import matplotlib.pyplot as plt\n",
    "import numpy as np\n",
    "\n",
    "plt.rcParams['figure.figsize'] = (18, 5)\n",
    "plt.rcParams['font.family'] = 'sans-serif'"
   ]
  },
  {
   "cell_type": "markdown",
   "metadata": {},
   "source": [
    "We saw earlier that pandas is really good at dealing with dates. It is also amazing with strings! We're going to go back to our weather data from Chapter 5, here."
   ]
  },
  {
   "cell_type": "code",
   "execution_count": 51,
   "metadata": {},
   "outputs": [
    {
     "data": {
      "text/html": [
       "<div>\n",
       "<style scoped>\n",
       "    .dataframe tbody tr th:only-of-type {\n",
       "        vertical-align: middle;\n",
       "    }\n",
       "\n",
       "    .dataframe tbody tr th {\n",
       "        vertical-align: top;\n",
       "    }\n",
       "\n",
       "    .dataframe thead th {\n",
       "        text-align: right;\n",
       "    }\n",
       "</style>\n",
       "<table border=\"1\" class=\"dataframe\">\n",
       "  <thead>\n",
       "    <tr style=\"text-align: right;\">\n",
       "      <th></th>\n",
       "      <th>Temp (°C)</th>\n",
       "      <th>Dew Point Temp (°C)</th>\n",
       "      <th>Rel Hum (%)</th>\n",
       "      <th>Wind Spd (km/h)</th>\n",
       "      <th>Visibility (km)</th>\n",
       "      <th>Stn Press (kPa)</th>\n",
       "      <th>Weather</th>\n",
       "    </tr>\n",
       "    <tr>\n",
       "      <th>Date/Time</th>\n",
       "      <th></th>\n",
       "      <th></th>\n",
       "      <th></th>\n",
       "      <th></th>\n",
       "      <th></th>\n",
       "      <th></th>\n",
       "      <th></th>\n",
       "    </tr>\n",
       "  </thead>\n",
       "  <tbody>\n",
       "    <tr>\n",
       "      <th>2012-01-01 00:00:00</th>\n",
       "      <td>-1.8</td>\n",
       "      <td>-3.9</td>\n",
       "      <td>86</td>\n",
       "      <td>4</td>\n",
       "      <td>8.0</td>\n",
       "      <td>101.24</td>\n",
       "      <td>Fog</td>\n",
       "    </tr>\n",
       "    <tr>\n",
       "      <th>2012-01-01 01:00:00</th>\n",
       "      <td>-1.8</td>\n",
       "      <td>-3.7</td>\n",
       "      <td>87</td>\n",
       "      <td>4</td>\n",
       "      <td>8.0</td>\n",
       "      <td>101.24</td>\n",
       "      <td>Fog</td>\n",
       "    </tr>\n",
       "    <tr>\n",
       "      <th>2012-01-01 02:00:00</th>\n",
       "      <td>-1.8</td>\n",
       "      <td>-3.4</td>\n",
       "      <td>89</td>\n",
       "      <td>7</td>\n",
       "      <td>4.0</td>\n",
       "      <td>101.26</td>\n",
       "      <td>Freezing Drizzle,Fog</td>\n",
       "    </tr>\n",
       "    <tr>\n",
       "      <th>2012-01-01 03:00:00</th>\n",
       "      <td>-1.5</td>\n",
       "      <td>-3.2</td>\n",
       "      <td>88</td>\n",
       "      <td>6</td>\n",
       "      <td>4.0</td>\n",
       "      <td>101.27</td>\n",
       "      <td>Freezing Drizzle,Fog</td>\n",
       "    </tr>\n",
       "    <tr>\n",
       "      <th>2012-01-01 04:00:00</th>\n",
       "      <td>-1.5</td>\n",
       "      <td>-3.3</td>\n",
       "      <td>88</td>\n",
       "      <td>7</td>\n",
       "      <td>4.8</td>\n",
       "      <td>101.23</td>\n",
       "      <td>Fog</td>\n",
       "    </tr>\n",
       "  </tbody>\n",
       "</table>\n",
       "</div>"
      ],
      "text/plain": [
       "                     Temp (°C)  Dew Point Temp (°C)  Rel Hum (%)  \\\n",
       "Date/Time                                                          \n",
       "2012-01-01 00:00:00       -1.8                 -3.9           86   \n",
       "2012-01-01 01:00:00       -1.8                 -3.7           87   \n",
       "2012-01-01 02:00:00       -1.8                 -3.4           89   \n",
       "2012-01-01 03:00:00       -1.5                 -3.2           88   \n",
       "2012-01-01 04:00:00       -1.5                 -3.3           88   \n",
       "\n",
       "                     Wind Spd (km/h)  Visibility (km)  Stn Press (kPa)  \\\n",
       "Date/Time                                                                \n",
       "2012-01-01 00:00:00                4              8.0           101.24   \n",
       "2012-01-01 01:00:00                4              8.0           101.24   \n",
       "2012-01-01 02:00:00                7              4.0           101.26   \n",
       "2012-01-01 03:00:00                6              4.0           101.27   \n",
       "2012-01-01 04:00:00                7              4.8           101.23   \n",
       "\n",
       "                                  Weather  \n",
       "Date/Time                                  \n",
       "2012-01-01 00:00:00                   Fog  \n",
       "2012-01-01 01:00:00                   Fog  \n",
       "2012-01-01 02:00:00  Freezing Drizzle,Fog  \n",
       "2012-01-01 03:00:00  Freezing Drizzle,Fog  \n",
       "2012-01-01 04:00:00                   Fog  "
      ]
     },
     "execution_count": 51,
     "metadata": {},
     "output_type": "execute_result"
    }
   ],
   "source": [
    "df = pd.read_csv('../data/weather_2012.csv', encoding='utf-8', sep=',', parse_dates=['Date/Time'], index_col='Date/Time')\n",
    "df.head()"
   ]
  },
  {
   "cell_type": "code",
   "execution_count": 8,
   "metadata": {},
   "outputs": [
    {
     "data": {
      "text/html": [
       "<div style=\"max-height:1000px;max-width:1500px;overflow:auto;\">\n",
       "<table border=\"1\" class=\"dataframe\">\n",
       "  <thead>\n",
       "    <tr style=\"text-align: right;\">\n",
       "      <th></th>\n",
       "      <th>Temp (C)</th>\n",
       "      <th>Dew Point Temp (C)</th>\n",
       "      <th>Rel Hum (%)</th>\n",
       "      <th>Wind Spd (km/h)</th>\n",
       "      <th>Visibility (km)</th>\n",
       "      <th>Stn Press (kPa)</th>\n",
       "      <th>Weather</th>\n",
       "    </tr>\n",
       "    <tr>\n",
       "      <th>Date/Time</th>\n",
       "      <th></th>\n",
       "      <th></th>\n",
       "      <th></th>\n",
       "      <th></th>\n",
       "      <th></th>\n",
       "      <th></th>\n",
       "      <th></th>\n",
       "    </tr>\n",
       "  </thead>\n",
       "  <tbody>\n",
       "    <tr>\n",
       "      <th>2012-01-01 00:00:00</th>\n",
       "      <td>-1.8</td>\n",
       "      <td>-3.9</td>\n",
       "      <td> 86</td>\n",
       "      <td> 4</td>\n",
       "      <td> 8.0</td>\n",
       "      <td> 101.24</td>\n",
       "      <td>                  Fog</td>\n",
       "    </tr>\n",
       "    <tr>\n",
       "      <th>2012-01-01 01:00:00</th>\n",
       "      <td>-1.8</td>\n",
       "      <td>-3.7</td>\n",
       "      <td> 87</td>\n",
       "      <td> 4</td>\n",
       "      <td> 8.0</td>\n",
       "      <td> 101.24</td>\n",
       "      <td>                  Fog</td>\n",
       "    </tr>\n",
       "    <tr>\n",
       "      <th>2012-01-01 02:00:00</th>\n",
       "      <td>-1.8</td>\n",
       "      <td>-3.4</td>\n",
       "      <td> 89</td>\n",
       "      <td> 7</td>\n",
       "      <td> 4.0</td>\n",
       "      <td> 101.26</td>\n",
       "      <td> Freezing Drizzle,Fog</td>\n",
       "    </tr>\n",
       "    <tr>\n",
       "      <th>2012-01-01 03:00:00</th>\n",
       "      <td>-1.5</td>\n",
       "      <td>-3.2</td>\n",
       "      <td> 88</td>\n",
       "      <td> 6</td>\n",
       "      <td> 4.0</td>\n",
       "      <td> 101.27</td>\n",
       "      <td> Freezing Drizzle,Fog</td>\n",
       "    </tr>\n",
       "    <tr>\n",
       "      <th>2012-01-01 04:00:00</th>\n",
       "      <td>-1.5</td>\n",
       "      <td>-3.3</td>\n",
       "      <td> 88</td>\n",
       "      <td> 7</td>\n",
       "      <td> 4.8</td>\n",
       "      <td> 101.23</td>\n",
       "      <td>                  Fog</td>\n",
       "    </tr>\n",
       "  </tbody>\n",
       "</table>\n",
       "<p>5 rows × 7 columns</p>\n",
       "</div>"
      ],
      "text/plain": [
       "                     Temp (C)  Dew Point Temp (C)  Rel Hum (%)  \\\n",
       "Date/Time                                                        \n",
       "2012-01-01 00:00:00      -1.8                -3.9           86   \n",
       "2012-01-01 01:00:00      -1.8                -3.7           87   \n",
       "2012-01-01 02:00:00      -1.8                -3.4           89   \n",
       "2012-01-01 03:00:00      -1.5                -3.2           88   \n",
       "2012-01-01 04:00:00      -1.5                -3.3           88   \n",
       "\n",
       "                     Wind Spd (km/h)  Visibility (km)  Stn Press (kPa)  \\\n",
       "Date/Time                                                                \n",
       "2012-01-01 00:00:00                4              8.0           101.24   \n",
       "2012-01-01 01:00:00                4              8.0           101.24   \n",
       "2012-01-01 02:00:00                7              4.0           101.26   \n",
       "2012-01-01 03:00:00                6              4.0           101.27   \n",
       "2012-01-01 04:00:00                7              4.8           101.23   \n",
       "\n",
       "                                  Weather  \n",
       "Date/Time                                  \n",
       "2012-01-01 00:00:00                   Fog  \n",
       "2012-01-01 01:00:00                   Fog  \n",
       "2012-01-01 02:00:00  Freezing Drizzle,Fog  \n",
       "2012-01-01 03:00:00  Freezing Drizzle,Fog  \n",
       "2012-01-01 04:00:00                   Fog  \n",
       "\n",
       "[5 rows x 7 columns]"
      ]
     },
     "execution_count": 8,
     "metadata": {},
     "output_type": "execute_result"
    }
   ],
   "source": []
  },
  {
   "cell_type": "markdown",
   "metadata": {},
   "source": [
    "# 6.1 String operations"
   ]
  },
  {
   "cell_type": "markdown",
   "metadata": {},
   "source": [
    "You'll see that the 'Weather' column has a text description of the weather that was going on each hour. We'll assume it's snowing if the text description contains \"Snow\". \n",
    "\n",
    "pandas provides vectorized string functions, to make it easy to operate on columns containing text. There are some great [examples](http://pandas.pydata.org/pandas-docs/stable/basics.html#vectorized-string-methods) in the documentation.\n",
    "\n",
    "Get a series telling if it has snowed or not using str.contains from series object"
   ]
  },
  {
   "cell_type": "code",
   "execution_count": 52,
   "metadata": {},
   "outputs": [
    {
     "data": {
      "text/plain": [
       "Date/Time\n",
       "2012-01-01 00:00:00    False\n",
       "2012-01-01 01:00:00    False\n",
       "2012-01-01 02:00:00    False\n",
       "2012-01-01 03:00:00    False\n",
       "2012-01-01 04:00:00    False\n",
       "Name: Weather, dtype: bool"
      ]
     },
     "execution_count": 52,
     "metadata": {},
     "output_type": "execute_result"
    }
   ],
   "source": [
    "is_snowing = df['Weather'].str.contains('snow', case=False, regex=False)\n",
    "is_snowing.head()\n",
    "#pat c'est le str (le mot chercher dans notre exemple c'est 'Snow')\n",
    "#case permet de regler la sensibilité a la casse. si True senssibilité à la casse.\n",
    "#regex, si True suppose que le mot a chercher est une expression regulière, si False traite pat comme une chaine littérale"
   ]
  },
  {
   "cell_type": "markdown",
   "metadata": {},
   "source": [
    "This gives us a binary vector, which is a bit hard to look at, so we'll plot it."
   ]
  },
  {
   "cell_type": "code",
   "execution_count": 7,
   "metadata": {},
   "outputs": [],
   "source": [
    "# Not super useful\n"
   ]
  },
  {
   "cell_type": "code",
   "execution_count": 59,
   "metadata": {},
   "outputs": [
    {
     "data": {
      "text/plain": [
       "False    8201\n",
       "True      583\n",
       "Name: Weather, dtype: int64"
      ]
     },
     "execution_count": 59,
     "metadata": {},
     "output_type": "execute_result"
    }
   ],
   "source": [
    "# More useful!\n",
    "is_snowing.value_counts()"
   ]
  },
  {
   "cell_type": "markdown",
   "metadata": {},
   "source": [
    "# 6.2 Use resampling to find the snowiest month"
   ]
  },
  {
   "cell_type": "markdown",
   "metadata": {},
   "source": [
    "If we wanted the median temperature each month, we could use the `resample()`"
   ]
  },
  {
   "cell_type": "code",
   "execution_count": 53,
   "metadata": {},
   "outputs": [
    {
     "data": {
      "text/html": [
       "<div>\n",
       "<style scoped>\n",
       "    .dataframe tbody tr th:only-of-type {\n",
       "        vertical-align: middle;\n",
       "    }\n",
       "\n",
       "    .dataframe tbody tr th {\n",
       "        vertical-align: top;\n",
       "    }\n",
       "\n",
       "    .dataframe thead th {\n",
       "        text-align: right;\n",
       "    }\n",
       "</style>\n",
       "<table border=\"1\" class=\"dataframe\">\n",
       "  <thead>\n",
       "    <tr style=\"text-align: right;\">\n",
       "      <th></th>\n",
       "      <th>Temp (°C)</th>\n",
       "      <th>Dew Point Temp (°C)</th>\n",
       "      <th>Rel Hum (%)</th>\n",
       "      <th>Wind Spd (km/h)</th>\n",
       "      <th>Visibility (km)</th>\n",
       "      <th>Stn Press (kPa)</th>\n",
       "    </tr>\n",
       "    <tr>\n",
       "      <th>Date/Time</th>\n",
       "      <th></th>\n",
       "      <th></th>\n",
       "      <th></th>\n",
       "      <th></th>\n",
       "      <th></th>\n",
       "      <th></th>\n",
       "    </tr>\n",
       "  </thead>\n",
       "  <tbody>\n",
       "    <tr>\n",
       "      <th>2012-01-31</th>\n",
       "      <td>-7.371505</td>\n",
       "      <td>-12.294758</td>\n",
       "      <td>68.383065</td>\n",
       "      <td>18.108871</td>\n",
       "      <td>22.100269</td>\n",
       "      <td>101.005349</td>\n",
       "    </tr>\n",
       "    <tr>\n",
       "      <th>2012-02-29</th>\n",
       "      <td>-4.225000</td>\n",
       "      <td>-9.221695</td>\n",
       "      <td>68.956897</td>\n",
       "      <td>14.837644</td>\n",
       "      <td>25.182184</td>\n",
       "      <td>101.142414</td>\n",
       "    </tr>\n",
       "    <tr>\n",
       "      <th>2012-03-31</th>\n",
       "      <td>3.121237</td>\n",
       "      <td>-3.488575</td>\n",
       "      <td>64.862903</td>\n",
       "      <td>14.514785</td>\n",
       "      <td>26.177957</td>\n",
       "      <td>101.335255</td>\n",
       "    </tr>\n",
       "    <tr>\n",
       "      <th>2012-04-30</th>\n",
       "      <td>7.009306</td>\n",
       "      <td>-1.934583</td>\n",
       "      <td>56.150000</td>\n",
       "      <td>17.369444</td>\n",
       "      <td>31.777083</td>\n",
       "      <td>100.716833</td>\n",
       "    </tr>\n",
       "    <tr>\n",
       "      <th>2012-05-31</th>\n",
       "      <td>16.237769</td>\n",
       "      <td>8.080780</td>\n",
       "      <td>61.760753</td>\n",
       "      <td>12.846774</td>\n",
       "      <td>29.418548</td>\n",
       "      <td>101.057164</td>\n",
       "    </tr>\n",
       "  </tbody>\n",
       "</table>\n",
       "</div>"
      ],
      "text/plain": [
       "            Temp (°C)  Dew Point Temp (°C)  Rel Hum (%)  Wind Spd (km/h)  \\\n",
       "Date/Time                                                                  \n",
       "2012-01-31  -7.371505           -12.294758    68.383065        18.108871   \n",
       "2012-02-29  -4.225000            -9.221695    68.956897        14.837644   \n",
       "2012-03-31   3.121237            -3.488575    64.862903        14.514785   \n",
       "2012-04-30   7.009306            -1.934583    56.150000        17.369444   \n",
       "2012-05-31  16.237769             8.080780    61.760753        12.846774   \n",
       "\n",
       "            Visibility (km)  Stn Press (kPa)  \n",
       "Date/Time                                     \n",
       "2012-01-31        22.100269       101.005349  \n",
       "2012-02-29        25.182184       101.142414  \n",
       "2012-03-31        26.177957       101.335255  \n",
       "2012-04-30        31.777083       100.716833  \n",
       "2012-05-31        29.418548       101.057164  "
      ]
     },
     "execution_count": 53,
     "metadata": {},
     "output_type": "execute_result"
    }
   ],
   "source": [
    "df2=df.resample(rule='M').mean()\n",
    "df2.head()\n",
    "#df2.describe()"
   ]
  },
  {
   "cell_type": "markdown",
   "metadata": {},
   "source": [
    "Unsurprisingly, July and August are the warmest."
   ]
  },
  {
   "cell_type": "markdown",
   "metadata": {},
   "source": [
    "So we can think of snowiness as being a bunch of 1s and 0s instead of `True`s and `False`s:"
   ]
  },
  {
   "cell_type": "code",
   "execution_count": 54,
   "metadata": {},
   "outputs": [],
   "source": [
    "#la fonction permet de recoder par 1 s'il à neigé et par 0 s'il n'a pas neigé \n",
    "def recodage_weather(x): \n",
    "    if 'Snow' in x:\n",
    "        x = 1\n",
    "    else:\n",
    "        x = 0\n",
    "    return x"
   ]
  },
  {
   "cell_type": "code",
   "execution_count": 55,
   "metadata": {},
   "outputs": [
    {
     "data": {
      "text/html": [
       "<div>\n",
       "<style scoped>\n",
       "    .dataframe tbody tr th:only-of-type {\n",
       "        vertical-align: middle;\n",
       "    }\n",
       "\n",
       "    .dataframe tbody tr th {\n",
       "        vertical-align: top;\n",
       "    }\n",
       "\n",
       "    .dataframe thead th {\n",
       "        text-align: right;\n",
       "    }\n",
       "</style>\n",
       "<table border=\"1\" class=\"dataframe\">\n",
       "  <thead>\n",
       "    <tr style=\"text-align: right;\">\n",
       "      <th></th>\n",
       "      <th>Temp (°C)</th>\n",
       "      <th>Dew Point Temp (°C)</th>\n",
       "      <th>Rel Hum (%)</th>\n",
       "      <th>Wind Spd (km/h)</th>\n",
       "      <th>Visibility (km)</th>\n",
       "      <th>Stn Press (kPa)</th>\n",
       "      <th>Weather</th>\n",
       "      <th>snowORnot</th>\n",
       "    </tr>\n",
       "    <tr>\n",
       "      <th>Date/Time</th>\n",
       "      <th></th>\n",
       "      <th></th>\n",
       "      <th></th>\n",
       "      <th></th>\n",
       "      <th></th>\n",
       "      <th></th>\n",
       "      <th></th>\n",
       "      <th></th>\n",
       "    </tr>\n",
       "  </thead>\n",
       "  <tbody>\n",
       "    <tr>\n",
       "      <th>2012-01-01 00:00:00</th>\n",
       "      <td>-1.8</td>\n",
       "      <td>-3.9</td>\n",
       "      <td>86</td>\n",
       "      <td>4</td>\n",
       "      <td>8.0</td>\n",
       "      <td>101.24</td>\n",
       "      <td>Fog</td>\n",
       "      <td>0</td>\n",
       "    </tr>\n",
       "    <tr>\n",
       "      <th>2012-01-01 01:00:00</th>\n",
       "      <td>-1.8</td>\n",
       "      <td>-3.7</td>\n",
       "      <td>87</td>\n",
       "      <td>4</td>\n",
       "      <td>8.0</td>\n",
       "      <td>101.24</td>\n",
       "      <td>Fog</td>\n",
       "      <td>0</td>\n",
       "    </tr>\n",
       "    <tr>\n",
       "      <th>2012-01-01 02:00:00</th>\n",
       "      <td>-1.8</td>\n",
       "      <td>-3.4</td>\n",
       "      <td>89</td>\n",
       "      <td>7</td>\n",
       "      <td>4.0</td>\n",
       "      <td>101.26</td>\n",
       "      <td>Freezing Drizzle,Fog</td>\n",
       "      <td>0</td>\n",
       "    </tr>\n",
       "    <tr>\n",
       "      <th>2012-01-01 03:00:00</th>\n",
       "      <td>-1.5</td>\n",
       "      <td>-3.2</td>\n",
       "      <td>88</td>\n",
       "      <td>6</td>\n",
       "      <td>4.0</td>\n",
       "      <td>101.27</td>\n",
       "      <td>Freezing Drizzle,Fog</td>\n",
       "      <td>0</td>\n",
       "    </tr>\n",
       "    <tr>\n",
       "      <th>2012-01-01 04:00:00</th>\n",
       "      <td>-1.5</td>\n",
       "      <td>-3.3</td>\n",
       "      <td>88</td>\n",
       "      <td>7</td>\n",
       "      <td>4.8</td>\n",
       "      <td>101.23</td>\n",
       "      <td>Fog</td>\n",
       "      <td>0</td>\n",
       "    </tr>\n",
       "  </tbody>\n",
       "</table>\n",
       "</div>"
      ],
      "text/plain": [
       "                     Temp (°C)  Dew Point Temp (°C)  Rel Hum (%)  \\\n",
       "Date/Time                                                          \n",
       "2012-01-01 00:00:00       -1.8                 -3.9           86   \n",
       "2012-01-01 01:00:00       -1.8                 -3.7           87   \n",
       "2012-01-01 02:00:00       -1.8                 -3.4           89   \n",
       "2012-01-01 03:00:00       -1.5                 -3.2           88   \n",
       "2012-01-01 04:00:00       -1.5                 -3.3           88   \n",
       "\n",
       "                     Wind Spd (km/h)  Visibility (km)  Stn Press (kPa)  \\\n",
       "Date/Time                                                                \n",
       "2012-01-01 00:00:00                4              8.0           101.24   \n",
       "2012-01-01 01:00:00                4              8.0           101.24   \n",
       "2012-01-01 02:00:00                7              4.0           101.26   \n",
       "2012-01-01 03:00:00                6              4.0           101.27   \n",
       "2012-01-01 04:00:00                7              4.8           101.23   \n",
       "\n",
       "                                  Weather  snowORnot  \n",
       "Date/Time                                             \n",
       "2012-01-01 00:00:00                   Fog          0  \n",
       "2012-01-01 01:00:00                   Fog          0  \n",
       "2012-01-01 02:00:00  Freezing Drizzle,Fog          0  \n",
       "2012-01-01 03:00:00  Freezing Drizzle,Fog          0  \n",
       "2012-01-01 04:00:00                   Fog          0  "
      ]
     },
     "execution_count": 55,
     "metadata": {},
     "output_type": "execute_result"
    }
   ],
   "source": [
    "# j'utilise la methode map() pour appliquer la fonction 'recodage_weather' a chaque élément de la colonnes Weather        \n",
    "df1 = df['Weather'].map(recodage_weather)\n",
    "df1\n",
    "\n",
    "#je rajoute cette nouvelle colonne appellé 'SnowORnot' à mon DataFrame df\n",
    "df['snowORnot'] = df1\n",
    "df.head()"
   ]
  },
  {
   "cell_type": "markdown",
   "metadata": {},
   "source": [
    "and then use `resample` to find the percentage of time it was snowing each month and plot it"
   ]
  },
  {
   "cell_type": "code",
   "execution_count": 56,
   "metadata": {
    "scrolled": true
   },
   "outputs": [
    {
     "data": {
      "text/html": [
       "<div>\n",
       "<style scoped>\n",
       "    .dataframe tbody tr th:only-of-type {\n",
       "        vertical-align: middle;\n",
       "    }\n",
       "\n",
       "    .dataframe tbody tr th {\n",
       "        vertical-align: top;\n",
       "    }\n",
       "\n",
       "    .dataframe thead th {\n",
       "        text-align: right;\n",
       "    }\n",
       "</style>\n",
       "<table border=\"1\" class=\"dataframe\">\n",
       "  <thead>\n",
       "    <tr style=\"text-align: right;\">\n",
       "      <th></th>\n",
       "      <th>Temp (°C)</th>\n",
       "      <th>Dew Point Temp (°C)</th>\n",
       "      <th>Rel Hum (%)</th>\n",
       "      <th>Wind Spd (km/h)</th>\n",
       "      <th>Visibility (km)</th>\n",
       "      <th>Stn Press (kPa)</th>\n",
       "      <th>snowORnot</th>\n",
       "    </tr>\n",
       "    <tr>\n",
       "      <th>Date/Time</th>\n",
       "      <th></th>\n",
       "      <th></th>\n",
       "      <th></th>\n",
       "      <th></th>\n",
       "      <th></th>\n",
       "      <th></th>\n",
       "      <th></th>\n",
       "    </tr>\n",
       "  </thead>\n",
       "  <tbody>\n",
       "    <tr>\n",
       "      <th>2012-01-31</th>\n",
       "      <td>-7.371505</td>\n",
       "      <td>-12.294758</td>\n",
       "      <td>68.383065</td>\n",
       "      <td>18.108871</td>\n",
       "      <td>22.100269</td>\n",
       "      <td>101.005349</td>\n",
       "      <td>0.240591</td>\n",
       "    </tr>\n",
       "    <tr>\n",
       "      <th>2012-02-29</th>\n",
       "      <td>-4.225000</td>\n",
       "      <td>-9.221695</td>\n",
       "      <td>68.956897</td>\n",
       "      <td>14.837644</td>\n",
       "      <td>25.182184</td>\n",
       "      <td>101.142414</td>\n",
       "      <td>0.162356</td>\n",
       "    </tr>\n",
       "    <tr>\n",
       "      <th>2012-03-31</th>\n",
       "      <td>3.121237</td>\n",
       "      <td>-3.488575</td>\n",
       "      <td>64.862903</td>\n",
       "      <td>14.514785</td>\n",
       "      <td>26.177957</td>\n",
       "      <td>101.335255</td>\n",
       "      <td>0.087366</td>\n",
       "    </tr>\n",
       "    <tr>\n",
       "      <th>2012-04-30</th>\n",
       "      <td>7.009306</td>\n",
       "      <td>-1.934583</td>\n",
       "      <td>56.150000</td>\n",
       "      <td>17.369444</td>\n",
       "      <td>31.777083</td>\n",
       "      <td>100.716833</td>\n",
       "      <td>0.015278</td>\n",
       "    </tr>\n",
       "    <tr>\n",
       "      <th>2012-05-31</th>\n",
       "      <td>16.237769</td>\n",
       "      <td>8.080780</td>\n",
       "      <td>61.760753</td>\n",
       "      <td>12.846774</td>\n",
       "      <td>29.418548</td>\n",
       "      <td>101.057164</td>\n",
       "      <td>0.000000</td>\n",
       "    </tr>\n",
       "    <tr>\n",
       "      <th>2012-06-30</th>\n",
       "      <td>20.134028</td>\n",
       "      <td>11.738056</td>\n",
       "      <td>60.643056</td>\n",
       "      <td>14.681944</td>\n",
       "      <td>32.104167</td>\n",
       "      <td>100.784222</td>\n",
       "      <td>0.000000</td>\n",
       "    </tr>\n",
       "    <tr>\n",
       "      <th>2012-07-31</th>\n",
       "      <td>22.790054</td>\n",
       "      <td>14.595430</td>\n",
       "      <td>62.017473</td>\n",
       "      <td>11.887097</td>\n",
       "      <td>33.655108</td>\n",
       "      <td>100.828333</td>\n",
       "      <td>0.000000</td>\n",
       "    </tr>\n",
       "    <tr>\n",
       "      <th>2012-08-31</th>\n",
       "      <td>22.279301</td>\n",
       "      <td>15.644758</td>\n",
       "      <td>67.943548</td>\n",
       "      <td>13.931452</td>\n",
       "      <td>30.192608</td>\n",
       "      <td>100.927097</td>\n",
       "      <td>0.000000</td>\n",
       "    </tr>\n",
       "    <tr>\n",
       "      <th>2012-09-30</th>\n",
       "      <td>16.484444</td>\n",
       "      <td>10.757917</td>\n",
       "      <td>71.165278</td>\n",
       "      <td>14.108333</td>\n",
       "      <td>30.603472</td>\n",
       "      <td>101.087903</td>\n",
       "      <td>0.000000</td>\n",
       "    </tr>\n",
       "    <tr>\n",
       "      <th>2012-10-31</th>\n",
       "      <td>10.954973</td>\n",
       "      <td>6.533468</td>\n",
       "      <td>75.731183</td>\n",
       "      <td>15.475806</td>\n",
       "      <td>25.111022</td>\n",
       "      <td>100.909368</td>\n",
       "      <td>0.000000</td>\n",
       "    </tr>\n",
       "    <tr>\n",
       "      <th>2012-11-30</th>\n",
       "      <td>0.931389</td>\n",
       "      <td>-4.179306</td>\n",
       "      <td>69.984722</td>\n",
       "      <td>13.973611</td>\n",
       "      <td>26.077083</td>\n",
       "      <td>101.658306</td>\n",
       "      <td>0.038889</td>\n",
       "    </tr>\n",
       "    <tr>\n",
       "      <th>2012-12-31</th>\n",
       "      <td>-3.306317</td>\n",
       "      <td>-6.129032</td>\n",
       "      <td>81.299731</td>\n",
       "      <td>17.614247</td>\n",
       "      <td>19.733199</td>\n",
       "      <td>101.174409</td>\n",
       "      <td>0.251344</td>\n",
       "    </tr>\n",
       "  </tbody>\n",
       "</table>\n",
       "</div>"
      ],
      "text/plain": [
       "            Temp (°C)  Dew Point Temp (°C)  Rel Hum (%)  Wind Spd (km/h)  \\\n",
       "Date/Time                                                                  \n",
       "2012-01-31  -7.371505           -12.294758    68.383065        18.108871   \n",
       "2012-02-29  -4.225000            -9.221695    68.956897        14.837644   \n",
       "2012-03-31   3.121237            -3.488575    64.862903        14.514785   \n",
       "2012-04-30   7.009306            -1.934583    56.150000        17.369444   \n",
       "2012-05-31  16.237769             8.080780    61.760753        12.846774   \n",
       "2012-06-30  20.134028            11.738056    60.643056        14.681944   \n",
       "2012-07-31  22.790054            14.595430    62.017473        11.887097   \n",
       "2012-08-31  22.279301            15.644758    67.943548        13.931452   \n",
       "2012-09-30  16.484444            10.757917    71.165278        14.108333   \n",
       "2012-10-31  10.954973             6.533468    75.731183        15.475806   \n",
       "2012-11-30   0.931389            -4.179306    69.984722        13.973611   \n",
       "2012-12-31  -3.306317            -6.129032    81.299731        17.614247   \n",
       "\n",
       "            Visibility (km)  Stn Press (kPa)  snowORnot  \n",
       "Date/Time                                                \n",
       "2012-01-31        22.100269       101.005349   0.240591  \n",
       "2012-02-29        25.182184       101.142414   0.162356  \n",
       "2012-03-31        26.177957       101.335255   0.087366  \n",
       "2012-04-30        31.777083       100.716833   0.015278  \n",
       "2012-05-31        29.418548       101.057164   0.000000  \n",
       "2012-06-30        32.104167       100.784222   0.000000  \n",
       "2012-07-31        33.655108       100.828333   0.000000  \n",
       "2012-08-31        30.192608       100.927097   0.000000  \n",
       "2012-09-30        30.603472       101.087903   0.000000  \n",
       "2012-10-31        25.111022       100.909368   0.000000  \n",
       "2012-11-30        26.077083       101.658306   0.038889  \n",
       "2012-12-31        19.733199       101.174409   0.251344  "
      ]
     },
     "execution_count": 56,
     "metadata": {},
     "output_type": "execute_result"
    }
   ],
   "source": [
    "df3 = df.resample(rule = 'M').mean()\n",
    "df3"
   ]
  },
  {
   "cell_type": "code",
   "execution_count": 57,
   "metadata": {},
   "outputs": [
    {
     "data": {
      "text/plain": [
       "<matplotlib.axes._subplots.AxesSubplot at 0xf8b40b8>"
      ]
     },
     "execution_count": 57,
     "metadata": {},
     "output_type": "execute_result"
    },
    {
     "data": {
      "image/png": "[encoded data removed]",
      "text/plain": [
       "<Figure size 1296x360 with 1 Axes>"
      ]
     },
     "metadata": {
      "needs_background": "light"
     },
     "output_type": "display_data"
    }
   ],
   "source": [
    "df3.plot(x = None, y = 'snowORnot')"
   ]
  },
  {
   "cell_type": "markdown",
   "metadata": {},
   "source": [
    "So now we know! In 2012, December was the snowiest month. Also, this graph suggests something that I feel -- it starts snowing pretty abruptly in November, and then tapers off slowly and takes a long time to stop, with the last snow usually being in April or May."
   ]
  },
  {
   "cell_type": "markdown",
   "metadata": {},
   "source": [
    "# 6.3 Plotting temperature and snowiness stats together"
   ]
  },
  {
   "cell_type": "markdown",
   "metadata": {},
   "source": [
    "We can also combine these two statistics (temperature, and snowiness) into one dataframe and plot them together:"
   ]
  },
  {
   "cell_type": "code",
   "execution_count": 58,
   "metadata": {},
   "outputs": [
    {
     "data": {
      "text/html": [
       "<div>\n",
       "<style scoped>\n",
       "    .dataframe tbody tr th:only-of-type {\n",
       "        vertical-align: middle;\n",
       "    }\n",
       "\n",
       "    .dataframe tbody tr th {\n",
       "        vertical-align: top;\n",
       "    }\n",
       "\n",
       "    .dataframe thead th {\n",
       "        text-align: right;\n",
       "    }\n",
       "</style>\n",
       "<table border=\"1\" class=\"dataframe\">\n",
       "  <thead>\n",
       "    <tr style=\"text-align: right;\">\n",
       "      <th></th>\n",
       "      <th>Temp (°C)</th>\n",
       "      <th>snowORnot</th>\n",
       "    </tr>\n",
       "    <tr>\n",
       "      <th>Date/Time</th>\n",
       "      <th></th>\n",
       "      <th></th>\n",
       "    </tr>\n",
       "  </thead>\n",
       "  <tbody>\n",
       "    <tr>\n",
       "      <th>2012-01-01 00:00:00</th>\n",
       "      <td>-1.8</td>\n",
       "      <td>0</td>\n",
       "    </tr>\n",
       "    <tr>\n",
       "      <th>2012-01-01 01:00:00</th>\n",
       "      <td>-1.8</td>\n",
       "      <td>0</td>\n",
       "    </tr>\n",
       "    <tr>\n",
       "      <th>2012-01-01 02:00:00</th>\n",
       "      <td>-1.8</td>\n",
       "      <td>0</td>\n",
       "    </tr>\n",
       "    <tr>\n",
       "      <th>2012-01-01 03:00:00</th>\n",
       "      <td>-1.5</td>\n",
       "      <td>0</td>\n",
       "    </tr>\n",
       "    <tr>\n",
       "      <th>2012-01-01 04:00:00</th>\n",
       "      <td>-1.5</td>\n",
       "      <td>0</td>\n",
       "    </tr>\n",
       "  </tbody>\n",
       "</table>\n",
       "</div>"
      ],
      "text/plain": [
       "                     Temp (°C)  snowORnot\n",
       "Date/Time                                \n",
       "2012-01-01 00:00:00       -1.8          0\n",
       "2012-01-01 01:00:00       -1.8          0\n",
       "2012-01-01 02:00:00       -1.8          0\n",
       "2012-01-01 03:00:00       -1.5          0\n",
       "2012-01-01 04:00:00       -1.5          0"
      ]
     },
     "execution_count": 58,
     "metadata": {},
     "output_type": "execute_result"
    }
   ],
   "source": [
    "temp = df['Temp (\\xb0C)']\n",
    "snow = df['snowORnot']\n",
    "tempANDsnow= df[['Temp (\\xb0C)', 'snowORnot']]\n",
    "tempANDsnow.head()"
   ]
  },
  {
   "cell_type": "markdown",
   "metadata": {},
   "source": [
    "\n",
    "We'll use `concat` again to combine the two statistics into a single dataframe named stats"
   ]
  },
  {
   "cell_type": "code",
   "execution_count": 59,
   "metadata": {},
   "outputs": [
    {
     "data": {
      "text/plain": [
       "<matplotlib.axes._subplots.AxesSubplot at 0xf7d1f60>"
      ]
     },
     "execution_count": 59,
     "metadata": {},
     "output_type": "execute_result"
    },
    {
     "data": {
      "image/png": "[encoded data removed]",
      "text/plain": [
       "<Figure size 1296x360 with 1 Axes>"
      ]
     },
     "metadata": {
      "needs_background": "light"
     },
     "output_type": "display_data"
    }
   ],
   "source": [
    "tempsnow = pd.concat([temp,snow], ignore_index = False)\n",
    "tempsnow.plot()"
   ]
  },
  {
   "cell_type": "markdown",
   "metadata": {},
   "source": [
    "Uh, that didn't work so well because the scale was wrong. We can do better by plotting them on two separate graphs:"
   ]
  },
  {
   "cell_type": "code",
   "execution_count": 60,
   "metadata": {},
   "outputs": [
    {
     "data": {
      "text/plain": [
       "array([<matplotlib.axes._subplots.AxesSubplot object at 0x000000000DC7F4A8>,\n",
       "       <matplotlib.axes._subplots.AxesSubplot object at 0x000000000F785710>],\n",
       "      dtype=object)"
      ]
     },
     "execution_count": 60,
     "metadata": {},
     "output_type": "execute_result"
    },
    {
     "data": {
      "image/png": "[encoded data removed]",
      "text/plain": [
       "<Figure size 1296x360 with 2 Axes>"
      ]
     },
     "metadata": {
      "needs_background": "light"
     },
     "output_type": "display_data"
    }
   ],
   "source": [
    "tempANDsnow.plot(subplots = True)"
   ]
  },
  {
   "cell_type": "markdown",
   "metadata": {},
   "source": [
    "<style>\n",
    "    @font-face {\n",
    "        font-family: \"Computer Modern\";\n",
    "        src: url('http://mirrors.ctan.org/fonts/cm-unicode/fonts/otf/cmunss.otf');\n",
    "    }\n",
    "    div.cell{\n",
    "        width:800px;\n",
    "        margin-left:16% !important;\n",
    "        margin-right:auto;\n",
    "    }\n",
    "    h1 {\n",
    "        font-family: Helvetica, serif;\n",
    "    }\n",
    "    h4{\n",
    "        margin-top:12px;\n",
    "        margin-bottom: 3px;\n",
    "       }\n",
    "    div.text_cell_render{\n",
    "        font-family: Computer Modern, \"Helvetica Neue\", Arial, Helvetica, Geneva, sans-serif;\n",
    "        line-height: 145%;\n",
    "        font-size: 130%;\n",
    "        width:800px;\n",
    "        margin-left:auto;\n",
    "        margin-right:auto;\n",
    "    }\n",
    "    .CodeMirror{\n",
    "            font-family: \"Source Code Pro\", source-code-pro,Consolas, monospace;\n",
    "    }\n",
    "    .text_cell_render h5 {\n",
    "        font-weight: 300;\n",
    "        font-size: 22pt;\n",
    "        color: #4057A1;\n",
    "        font-style: italic;\n",
    "        margin-bottom: .5em;\n",
    "        margin-top: 0.5em;\n",
    "        display: block;\n",
    "    }\n",
    "    \n",
    "    .warning{\n",
    "        color: rgb( 240, 20, 20 )\n",
    "        }  "
   ]
  }
 ],
 "metadata": {
  "kernelspec": {
   "display_name": "Python 3",
   "language": "python",
   "name": "python3"
  },
  "language_info": {
   "codemirror_mode": {
    "name": "ipython",
    "version": 3
   },
   "file_extension": ".py",
   "mimetype": "text/x-python",
   "name": "python",
   "nbconvert_exporter": "python",
   "pygments_lexer": "ipython3",
   "version": "3.7.0"
  }
 },
 "nbformat": 4,
 "nbformat_minor": 1
}
