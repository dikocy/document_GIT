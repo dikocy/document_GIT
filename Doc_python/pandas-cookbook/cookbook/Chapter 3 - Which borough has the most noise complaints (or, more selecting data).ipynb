{
 "cells": [
  {
   "cell_type": "code",
   "execution_count": 1,
   "metadata": {},
   "outputs": [],
   "source": [
    "# The usual preamble\n",
    "%matplotlib inline\n",
    "import pandas as pd\n",
    "import matplotlib.pyplot as plt\n",
    "import numpy as np\n",
    "\n",
    "# Make the graphs a bit prettier, and bigger\n",
    "\n",
    "plt.rcParams['figure.figsize'] = (15, 5)"
   ]
  },
  {
   "cell_type": "markdown",
   "metadata": {},
   "source": [
    "Let's continue to explore our NYC 311 service requests example. Load the dataframe as previously"
   ]
  },
  {
   "cell_type": "code",
   "execution_count": 44,
   "metadata": {},
   "outputs": [
    {
     "data": {
      "text/plain": [
       "Index(['Unique Key', 'Created Date', 'Closed Date', 'Agency', 'Agency Name',\n",
       "       'Complaint Type', 'Descriptor', 'Location Type', 'Incident Zip',\n",
       "       'Incident Address', 'Street Name', 'Cross Street 1', 'Cross Street 2',\n",
       "       'Intersection Street 1', 'Intersection Street 2', 'Address Type',\n",
       "       'City', 'Landmark', 'Facility Type', 'Status', 'Due Date',\n",
       "       'Resolution Action Updated Date', 'Community Board', 'Borough',\n",
       "       'X Coordinate (State Plane)', 'Y Coordinate (State Plane)',\n",
       "       'Park Facility Name', 'Park Borough', 'School Name', 'School Number',\n",
       "       'School Region', 'School Code', 'School Phone Number', 'School Address',\n",
       "       'School City', 'School State', 'School Zip', 'School Not Found',\n",
       "       'School or Citywide Complaint', 'Vehicle Type', 'Taxi Company Borough',\n",
       "       'Taxi Pick Up Location', 'Bridge Highway Name',\n",
       "       'Bridge Highway Direction', 'Road Ramp', 'Bridge Highway Segment',\n",
       "       'Garage Lot Name', 'Ferry Direction', 'Ferry Terminal Name', 'Latitude',\n",
       "       'Longitude', 'Location'],\n",
       "      dtype='object')"
      ]
     },
     "execution_count": 44,
     "metadata": {},
     "output_type": "execute_result"
    }
   ],
   "source": [
    "request = pd.read_csv('../data/311-service-requests.csv', encoding='latin1',)\n",
    "request.columns"
   ]
  },
  {
   "cell_type": "markdown",
   "metadata": {},
   "source": [
    "# 3.1 Selecting only noise complaints"
   ]
  },
  {
   "cell_type": "code",
   "execution_count": null,
   "metadata": {},
   "outputs": [],
   "source": []
  },
  {
   "cell_type": "markdown",
   "metadata": {},
   "source": [
    "In this section we are going to select only noise Complaints. To do that we are going to select only a few rows using the .loc attribute withs masks (or filters). The idea is to build a mask with a condition\n",
    "\n",
    "For instance the mask `mask = df['column_name'] == 'something'` will return a column of boolean telling if the row has the value 'something'\n",
    "\n",
    "Then we can select the corresponding lines in the dataset using \n",
    "\n",
    "`df[mask]`\n",
    "\n",
    "Select rows corresponding the `'Complaint Type'` being `'Noise - Street/Sidewalk'`. Print the mask to check that it contains bolean values"
   ]
  },
  {
   "cell_type": "markdown",
   "metadata": {},
   "source": [
    "Of course we can get more complexe masks. For instance we can use the and operator : & and the or operator |. Beware not using `and` and `or` as it does not work in pandas. Build a mask selecting all kind of noise complaints. You can use the `.unique()` methods or `.value_counts()` to see all noise complaint types"
   ]
  },
  {
   "cell_type": "code",
   "execution_count": 47,
   "metadata": {},
   "outputs": [
    {
     "data": {
      "text/plain": [
       "0         False\n",
       "1         False\n",
       "2         False\n",
       "3         False\n",
       "4         False\n",
       "5         False\n",
       "6         False\n",
       "7         False\n",
       "8         False\n",
       "9         False\n",
       "10        False\n",
       "11        False\n",
       "12        False\n",
       "13        False\n",
       "14        False\n",
       "15        False\n",
       "16        False\n",
       "17        False\n",
       "18        False\n",
       "19        False\n",
       "20        False\n",
       "21        False\n",
       "22        False\n",
       "23        False\n",
       "24        False\n",
       "25        False\n",
       "26        False\n",
       "27        False\n",
       "28        False\n",
       "29        False\n",
       "          ...  \n",
       "111039    False\n",
       "111040    False\n",
       "111041     True\n",
       "111042    False\n",
       "111043    False\n",
       "111044    False\n",
       "111045    False\n",
       "111046     True\n",
       "111047    False\n",
       "111048    False\n",
       "111049    False\n",
       "111050     True\n",
       "111051    False\n",
       "111052    False\n",
       "111053    False\n",
       "111054    False\n",
       "111055    False\n",
       "111056    False\n",
       "111057     True\n",
       "111058    False\n",
       "111059    False\n",
       "111060     True\n",
       "111061    False\n",
       "111062    False\n",
       "111063    False\n",
       "111064    False\n",
       "111065    False\n",
       "111066    False\n",
       "111067    False\n",
       "111068    False\n",
       "Name: Complaint Type, Length: 111069, dtype: bool"
      ]
     },
     "execution_count": 47,
     "metadata": {},
     "output_type": "execute_result"
    }
   ],
   "source": [
    "masktou = request['Complaint Type'] == 'Noise'\n",
    "masktou\n",
    "#maskcom = request['Complaint Type'] == 'Noise - Commercial'\n",
    "#maskveh = request['Complaint Type'] == 'Noise - Vehicule'\n",
    "#maskst = request['Complaint Type'] == 'Noise - Street/Sidewalk'"
   ]
  },
  {
   "cell_type": "code",
   "execution_count": 42,
   "metadata": {},
   "outputs": [
    {
     "data": {
      "text/plain": [
       "2     Noise - Commercial\n",
       "5     Noise - Commercial\n",
       "7     Noise - Commercial\n",
       "8     Noise - Commercial\n",
       "9     Noise - Commercial\n",
       "11    Noise - Commercial\n",
       "19    Noise - Commercial\n",
       "21    Noise - Commercial\n",
       "23    Noise - Commercial\n",
       "37    Noise - Commercial\n",
       "Name: Complaint Type, dtype: object"
      ]
     },
     "execution_count": 42,
     "metadata": {},
     "output_type": "execute_result"
    }
   ],
   "source": [
    "don = request[maskcom]\n",
    "don\n",
    "donb=don['Complaint Type'].iloc[0:10]\n",
    "donb"
   ]
  },
  {
   "cell_type": "markdown",
   "metadata": {},
   "source": [
    "So now you the .loc returned all columns. You can also specify a few exemples by using `df[mask, list_column_name]`. If you want to select columns by index use .iloc instead"
   ]
  },
  {
   "cell_type": "code",
   "execution_count": null,
   "metadata": {},
   "outputs": [],
   "source": []
  },
  {
   "cell_type": "markdown",
   "metadata": {},
   "source": [
    "# 3.2 Which borough has the most noise complaints?"
   ]
  },
  {
   "cell_type": "markdown",
   "metadata": {},
   "source": [
    "By using the previous mask for noise complaints, get the number of complaints for each Borough"
   ]
  },
  {
   "cell_type": "code",
   "execution_count": 51,
   "metadata": {},
   "outputs": [
    {
     "data": {
      "text/plain": [
       "73            MANHATTAN\n",
       "74            MANHATTAN\n",
       "79            MANHATTAN\n",
       "82            MANHATTAN\n",
       "83            MANHATTAN\n",
       "94            MANHATTAN\n",
       "110           MANHATTAN\n",
       "132           MANHATTAN\n",
       "134           MANHATTAN\n",
       "144            BROOKLYN\n",
       "145           MANHATTAN\n",
       "148           MANHATTAN\n",
       "153           MANHATTAN\n",
       "155           MANHATTAN\n",
       "163            BROOKLYN\n",
       "173            BROOKLYN\n",
       "177           MANHATTAN\n",
       "182           MANHATTAN\n",
       "196           MANHATTAN\n",
       "199           MANHATTAN\n",
       "208           MANHATTAN\n",
       "222              QUEENS\n",
       "223           MANHATTAN\n",
       "224           MANHATTAN\n",
       "230           MANHATTAN\n",
       "254           MANHATTAN\n",
       "257              QUEENS\n",
       "263            BROOKLYN\n",
       "317            BROOKLYN\n",
       "328            BROOKLYN\n",
       "              ...      \n",
       "110374           QUEENS\n",
       "110394         BROOKLYN\n",
       "110443        MANHATTAN\n",
       "110458    STATEN ISLAND\n",
       "110519        MANHATTAN\n",
       "110536            BRONX\n",
       "110590        MANHATTAN\n",
       "110753         BROOKLYN\n",
       "110775        MANHATTAN\n",
       "110778        MANHATTAN\n",
       "110787        MANHATTAN\n",
       "110812        MANHATTAN\n",
       "110815         BROOKLYN\n",
       "110833           QUEENS\n",
       "110873         BROOKLYN\n",
       "110901        MANHATTAN\n",
       "110903        MANHATTAN\n",
       "110927        MANHATTAN\n",
       "110943        MANHATTAN\n",
       "110955        MANHATTAN\n",
       "110965        MANHATTAN\n",
       "110976        MANHATTAN\n",
       "110984        MANHATTAN\n",
       "111014           QUEENS\n",
       "111016        MANHATTAN\n",
       "111041         BROOKLYN\n",
       "111046         BROOKLYN\n",
       "111050        MANHATTAN\n",
       "111057        MANHATTAN\n",
       "111060        MANHATTAN\n",
       "Name: Borough, Length: 3321, dtype: object"
      ]
     },
     "execution_count": 51,
     "metadata": {},
     "output_type": "execute_result"
    }
   ],
   "source": [
    "pville = request[masktou]['Borough']\n",
    "pville"
   ]
  },
  {
   "cell_type": "markdown",
   "metadata": {},
   "source": [
    "Convert this number into percentage"
   ]
  },
  {
   "cell_type": "code",
   "execution_count": 58,
   "metadata": {},
   "outputs": [
    {
     "data": {
      "text/plain": [
       "MANHATTAN        1848\n",
       "BROOKLYN          767\n",
       "QUEENS            418\n",
       "BRONX             168\n",
       "STATEN ISLAND     115\n",
       "Unspecified         5\n",
       "Name: Borough, dtype: int64"
      ]
     },
     "execution_count": 58,
     "metadata": {},
     "output_type": "execute_result"
    }
   ],
   "source": [
    "freq = pville.value_counts()\n",
    "freq"
   ]
  },
  {
   "cell_type": "code",
   "execution_count": 57,
   "metadata": {},
   "outputs": [
    {
     "data": {
      "text/plain": [
       "3321"
      ]
     },
     "execution_count": 57,
     "metadata": {},
     "output_type": "execute_result"
    }
   ],
   "source": [
    "somme = sum(freq)\n",
    "somme"
   ]
  },
  {
   "cell_type": "code",
   "execution_count": 71,
   "metadata": {},
   "outputs": [
    {
     "data": {
      "text/plain": [
       "[55.65, 23.1, 12.59, 5.06, 3.46, 0.15]"
      ]
     },
     "execution_count": 71,
     "metadata": {},
     "output_type": "execute_result"
    }
   ],
   "source": [
    "l = []\n",
    "for i in range(len(freq)):\n",
    "    l.append(round((freq[i]/somme)*100,2))\n",
    "\n",
    "l"
   ]
  },
  {
   "cell_type": "code",
   "execution_count": 73,
   "metadata": {},
   "outputs": [
    {
     "data": {
      "text/plain": [
       "MANHATTAN        0.56\n",
       "BROOKLYN         0.23\n",
       "QUEENS           0.13\n",
       "BRONX            0.05\n",
       "STATEN ISLAND    0.03\n",
       "Unspecified      0.00\n",
       "Name: Borough, dtype: float64"
      ]
     },
     "execution_count": 73,
     "metadata": {},
     "output_type": "execute_result"
    }
   ],
   "source": [
    "percent = round(freq/freq.sum(),2)\n",
    "percent"
   ]
  },
  {
   "cell_type": "markdown",
   "metadata": {},
   "source": [
    "Plot it"
   ]
  },
  {
   "cell_type": "code",
   "execution_count": 75,
   "metadata": {},
   "outputs": [
    {
     "data": {
      "text/plain": [
       "<matplotlib.axes._subplots.AxesSubplot at 0x1a9cc490>"
      ]
     },
     "execution_count": 75,
     "metadata": {},
     "output_type": "execute_result"
    },
    {
     "data": {
      "image/png": "[encoded data removed]",
      "text/plain": [
       "<Figure size 432x288 with 1 Axes>"
      ]
     },
     "metadata": {
      "needs_background": "light"
     },
     "output_type": "display_data"
    }
   ],
   "source": [
    "percent.plot.bar()"
   ]
  },
  {
   "cell_type": "markdown",
   "metadata": {},
   "source": [
    "<style>\n",
    "    @font-face {\n",
    "        font-family: \"Computer Modern\";\n",
    "        src: url('http://mirrors.ctan.org/fonts/cm-unicode/fonts/otf/cmunss.otf');\n",
    "    }\n",
    "    div.cell{\n",
    "        width:800px;\n",
    "        margin-left:16% !important;\n",
    "        margin-right:auto;\n",
    "    }\n",
    "    h1 {\n",
    "        font-family: Helvetica, serif;\n",
    "    }\n",
    "    h4{\n",
    "        margin-top:12px;\n",
    "        margin-bottom: 3px;\n",
    "       }\n",
    "    div.text_cell_render{\n",
    "        font-family: Computer Modern, \"Helvetica Neue\", Arial, Helvetica, Geneva, sans-serif;\n",
    "        line-height: 145%;\n",
    "        font-size: 130%;\n",
    "        width:800px;\n",
    "        margin-left:auto;\n",
    "        margin-right:auto;\n",
    "    }\n",
    "    .CodeMirror{\n",
    "            font-family: \"Source Code Pro\", source-code-pro,Consolas, monospace;\n",
    "    }\n",
    "    .text_cell_render h5 {\n",
    "        font-weight: 300;\n",
    "        font-size: 22pt;\n",
    "        color: #4057A1;\n",
    "        font-style: italic;\n",
    "        margin-bottom: .5em;\n",
    "        margin-top: 0.5em;\n",
    "        display: block;\n",
    "    }\n",
    "    \n",
    "    .warning{\n",
    "        color: rgb( 240, 20, 20 )\n",
    "        }  "
   ]
  }
 ],
 "metadata": {
  "kernelspec": {
   "display_name": "Python 3",
   "language": "python",
   "name": "python3"
  },
  "language_info": {
   "codemirror_mode": {
    "name": "ipython",
    "version": 3
   },
   "file_extension": ".py",
   "mimetype": "text/x-python",
   "name": "python",
   "nbconvert_exporter": "python",
   "pygments_lexer": "ipython3",
   "version": "3.7.1"
  }
 },
 "nbformat": 4,
 "nbformat_minor": 1
}
